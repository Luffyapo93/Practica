{
  "nbformat": 4,
  "nbformat_minor": 0,
  "metadata": {
    "colab": {
      "provenance": [],
      "authorship_tag": "ABX9TyN/fvP+DUCAynfIiLhhmXHK",
      "include_colab_link": true
    },
    "kernelspec": {
      "name": "python3",
      "display_name": "Python 3"
    },
    "language_info": {
      "name": "python"
    }
  },
  "cells": [
    {
      "cell_type": "markdown",
      "metadata": {
        "id": "view-in-github",
        "colab_type": "text"
      },
      "source": [
        "<a href=\"https://colab.research.google.com/github/Luffyapo93/Practica/blob/main/practica_calificada1.ipynb\" target=\"_parent\"><img src=\"https://colab.research.google.com/assets/colab-badge.svg\" alt=\"Open In Colab\"/></a>"
      ]
    },
    {
      "cell_type": "markdown",
      "source": [
        "EJERCICIO1"
      ],
      "metadata": {
        "id": "deX3KIOQemoF"
      }
    },
    {
      "cell_type": "code",
      "source": [
        "import numpy as np\n",
        "import pandas as pd\n",
        "print(\"1.------------------ \\n\")\n",
        "# Crea un vector de números enteros del 1 al 20.\n",
        "vector1 = np.arange(1, 21)\n",
        "print(vector1)\n",
        "\n",
        "print(\"\\n 2.---------------- \\n\")\n",
        "# Crea una matriz de 3x3 con valores aleatorios entre 0 y 1.\n",
        "matriz_3x3 = np.random.rand(3, 3)\n",
        "print(matriz_3x3)\n",
        "\n",
        "\n",
        "print(\"\\n 3.------------------------ \\n\")\n",
        "\n",
        "# Crea un array de 10 números equidistantes entre 0 y 1.\n",
        "array_equidistante = np.linspace(0, 1, 10)\n",
        "print(array_equidistante)\n",
        "print(\"\\n 4.---------------------------- \\n\")\n",
        "\n",
        "# Crea una matriz identidad de 6x6.\n",
        "matriz_identidad = np.eye(6)\n",
        "print(matriz_identidad)\n",
        "print(\"\\n 5.----------------------------- \\n\")\n",
        "\n",
        "# Concatena dos vectores vertical y horizontalmente.\n",
        "vector_a = np.array([1, 2, 3])\n",
        "vector_b = np.array([4, 5, 6])\n",
        "concat_vertical = np.vstack((vector_a, vector_b))\n",
        "concat_horizontal = np.hstack((vector_a, vector_b))\n",
        "print(concat_vertical)\n",
        "print(concat_horizontal)"
      ],
      "metadata": {
        "colab": {
          "base_uri": "https://localhost:8080/"
        },
        "id": "rVSG6UdtfMOW",
        "outputId": "c22dc8bd-bf03-4ea4-9971-c3b496a5445b"
      },
      "execution_count": 45,
      "outputs": [
        {
          "output_type": "stream",
          "name": "stdout",
          "text": [
            "1.------------------ \n",
            "\n",
            "[ 1  2  3  4  5  6  7  8  9 10 11 12 13 14 15 16 17 18 19 20]\n",
            "\n",
            " 2.---------------- \n",
            "\n",
            "[[0.99973259 0.61534742 0.726359  ]\n",
            " [0.99163755 0.45905109 0.93530699]\n",
            " [0.1468364  0.34493515 0.4191415 ]]\n",
            "\n",
            " 3.------------------------ \n",
            "\n",
            "[0.         0.11111111 0.22222222 0.33333333 0.44444444 0.55555556\n",
            " 0.66666667 0.77777778 0.88888889 1.        ]\n",
            "\n",
            " 4.---------------------------- \n",
            "\n",
            "[[1. 0. 0. 0. 0. 0.]\n",
            " [0. 1. 0. 0. 0. 0.]\n",
            " [0. 0. 1. 0. 0. 0.]\n",
            " [0. 0. 0. 1. 0. 0.]\n",
            " [0. 0. 0. 0. 1. 0.]\n",
            " [0. 0. 0. 0. 0. 1.]]\n",
            "\n",
            " 5.----------------------------- \n",
            "\n",
            "[[1 2 3]\n",
            " [4 5 6]]\n",
            "[1 2 3 4 5 6]\n"
          ]
        }
      ]
    },
    {
      "cell_type": "markdown",
      "source": [
        "EJERCICIO 2"
      ],
      "metadata": {
        "id": "Io-G5jqlheTF"
      }
    },
    {
      "cell_type": "code",
      "source": [
        "print(\"1.------------- \\n\")\n",
        "vec1 = np.array([10, 20, 30])\n",
        "vec2 = np.array([1, 2, 3])\n",
        "print(vec1)\n",
        "print(vec2)\n",
        "\n",
        "print(\"\\n 2.------------- \\n\")\n",
        "# Suma, resta, multiplicación y división\n",
        "suma = vec1 + vec2\n",
        "resta = vec1 - vec2\n",
        "multiplicacion = vec1 * vec2\n",
        "division = vec1 / vec2\n",
        "print(suma)\n",
        "print(resta)\n",
        "print(multiplicacion)\n",
        "print(division)\n",
        "\n",
        "print(\"\\n 3.---------------- \\n\")\n",
        "# Media, mediana y desviación estándar\n",
        "media = np.mean(vec1)\n",
        "mediana = np.median(vec1)\n",
        "desviacion = np.std(vec1)\n",
        "print(media)\n",
        "print(mediana)\n",
        "print(desviacion)\n",
        "\n",
        "print(\"\\n 4.--------------- \\n\")\n",
        "# Normaliza un vector dividiendo por su valor máximo\n",
        "normalizado = vec1 / np.max(vec1)\n",
        "print(normalizado)\n",
        "\n",
        "print(\"\\n 5.------------------ \\n\")\n",
        "# Índice del valor máximo y mínimo\n",
        "indice_max = np.argmax(vec1)\n",
        "indice_min = np.argmin(vec1)\n",
        "print(indice_max)\n",
        "print(indice_min)\n",
        "\n",
        "print(\"\\n 6.-------------------- \\n\")\n",
        "# Multiplicación matricial 3x3\n",
        "A = np.random.randint(1, 10, (3,3))\n",
        "B = np.random.randint(1, 10, (3,3))\n",
        "multiplicacion_matricial = np.matmul(A, B)\n",
        "print(multiplicacion_matricial)\n"
      ],
      "metadata": {
        "colab": {
          "base_uri": "https://localhost:8080/"
        },
        "id": "FuKElWgThgnW",
        "outputId": "13680489-e648-4a5e-950b-e8afc4ddb4aa"
      },
      "execution_count": 44,
      "outputs": [
        {
          "output_type": "stream",
          "name": "stdout",
          "text": [
            "1.- \n",
            "\n",
            "[10 20 30]\n",
            "[1 2 3]\n",
            "\n",
            " 2.- \n",
            "\n",
            "[11 22 33]\n",
            "[ 9 18 27]\n",
            "[10 40 90]\n",
            "[10. 10. 10.]\n",
            "\n",
            " 3.- \n",
            "\n",
            "20.0\n",
            "20.0\n",
            "8.16496580927726\n",
            "\n",
            " 4.- \n",
            "\n",
            "[0.33333333 0.66666667 1.        ]\n",
            "\n",
            " 5.- \n",
            "\n",
            "2\n",
            "0\n",
            "\n",
            " 6.- \n",
            "\n",
            "[[ 54 134  88]\n",
            " [ 29 101  76]\n",
            " [ 55 139  96]]\n"
          ]
        }
      ]
    },
    {
      "cell_type": "markdown",
      "source": [
        "EJERCICIO 3"
      ],
      "metadata": {
        "id": "NCjT_YmSihQF"
      }
    },
    {
      "cell_type": "code",
      "source": [
        "print(\"1.------------- \\n\")\n",
        "vector = np.array([1, 2, 3, 4, 5, 6, 7, 8, 9, 10])\n",
        "print(vector)\n",
        "\n",
        "print(\"\\n 2.------------- \\n\")\n",
        "# Selecciona elementos pares\n",
        "pares = vector[vector % 2 == 0]\n",
        "print(pares)\n",
        "\n",
        "print(\"\\n 3.---------------- \\n\")\n",
        "# Filtros\n",
        "mayores_5 = vector[vector > 5]\n",
        "iguales_cero = vector[vector == 0]\n",
        "negativos = vector[vector < 0]\n",
        "print(mayores_5)\n",
        "print(iguales_cero)\n",
        "print(negativos)\n",
        "\n",
        "print(\"\\n 4.--------------- \\n\")\n",
        "# Media a valores mayores de 50\n",
        "valores = np.array([20, 55, 60, 10, 80])\n",
        "media_mayores_50 = np.mean(valores[valores > 50])\n",
        "print(media_mayores_50)\n"
      ],
      "metadata": {
        "colab": {
          "base_uri": "https://localhost:8080/"
        },
        "id": "DyOm8kEsijy2",
        "outputId": "72c6930d-f461-4e7a-ac00-7615d8ee02c0"
      },
      "execution_count": 46,
      "outputs": [
        {
          "output_type": "stream",
          "name": "stdout",
          "text": [
            "1.------------- \n",
            "\n",
            "[ 1  2  3  4  5  6  7  8  9 10]\n",
            "\n",
            " 2.------------- \n",
            "\n",
            "[ 2  4  6  8 10]\n",
            "\n",
            " 3.---------------- \n",
            "\n",
            "[ 6  7  8  9 10]\n",
            "[]\n",
            "[]\n",
            "\n",
            " 4.--------------- \n",
            "\n",
            "65.0\n"
          ]
        }
      ]
    },
    {
      "cell_type": "markdown",
      "source": [
        "EJERCICIO 4"
      ],
      "metadata": {
        "id": "JpQhBG1ci_Yd"
      }
    },
    {
      "cell_type": "code",
      "source": [
        "print(\"1.------------- \\n\")\n",
        "# Reemplaza valores mayores que 5 con 0\n",
        "v = np.random.randint(0, 10, 10)\n",
        "v[v > 5] = 0\n",
        "print(v)\n",
        "\n",
        "print(\"\\n 2.------------- \\n\")\n",
        "# Operaciones booleanas\n",
        "a = np.array([True, False, True])\n",
        "b = np.array([False, True, True])\n",
        "and_op = a & b\n",
        "or_op = a | b\n",
        "xor_op = a ^ b\n",
        "print(and_op)\n",
        "print(or_op)\n",
        "print(xor_op)\n",
        "\n",
        "print(\"\\n 3.---------------- \\n\")\n",
        "# Múltiplos de 3\n",
        "x = np.arange(20)\n",
        "multiplos_3 = x[x % 3 == 0]\n",
        "cantidad_multiplos_3 = len(multiplos_3)\n",
        "print(multiplos_3)\n",
        "print(cantidad_multiplos_3)\n",
        "\n",
        "print(\"\\n 4.--------------- \\n\")\n",
        "# Índices no nulos\n",
        "vec = np.array([0, 1, 0, 3, 0, 5])\n",
        "indices_no_nulos = np.nonzero(vec)\n",
        "print(indices_no_nulos)\n",
        "\n",
        "print(\"\\n 5.-------------------- \\n\")\n",
        "# Comprobar si todos son mayores a un valor\n",
        "valor_usuario = 5\n",
        "todos_mayores = np.all(vec > valor_usuario)\n",
        "print(todos_mayores)\n"
      ],
      "metadata": {
        "colab": {
          "base_uri": "https://localhost:8080/"
        },
        "id": "ogyLBVR4jB42",
        "outputId": "58cc869e-c2e6-496f-9f89-ad96da9d9991"
      },
      "execution_count": 47,
      "outputs": [
        {
          "output_type": "stream",
          "name": "stdout",
          "text": [
            "1.------------- \n",
            "\n",
            "[0 5 0 0 0 0 0 0 0 0]\n",
            "\n",
            " 2.------------- \n",
            "\n",
            "[False False  True]\n",
            "[ True  True  True]\n",
            "[ True  True False]\n",
            "\n",
            " 3.---------------- \n",
            "\n",
            "[ 0  3  6  9 12 15 18]\n",
            "7\n",
            "\n",
            " 4.--------------- \n",
            "\n",
            "(array([1, 3, 5]),)\n",
            "\n",
            " 5.-------------------- \n",
            "\n",
            "False\n"
          ]
        }
      ]
    },
    {
      "cell_type": "markdown",
      "source": [
        "EJERCICIO 5"
      ],
      "metadata": {
        "id": "DVUJr7ckjjSm"
      }
    },
    {
      "cell_type": "code",
      "source": [
        "print(\"1.------------- \\n\")\n",
        "# Cuadrado de cada elemento\n",
        "vec = np.array([1, 2, 3, 4])\n",
        "cuadrado = vec ** 2\n",
        "print(cuadrado)\n",
        "\n",
        "print(\"\\n 2.------------- \\n\")\n",
        "# Raíz cuadrada de cada elemento\n",
        "raiz_cuadrada = np.sqrt(vec)\n",
        "print(raiz_cuadrada)\n",
        "\n",
        "print(\"\\n 3.---------------- \\n\")\n",
        "# Función exponencial\n",
        "potencia = 3\n",
        "exponencial = np.power(vec, potencia)\n",
        "print(exponencial)\n",
        "\n",
        "print(\"\\n 4.--------------- \\n\")\n",
        "# Valores máximos y mínimos por fila\n",
        "mat = np.random.randint(0, 100, (3, 4))\n",
        "max_filas = np.max(mat, axis=1)\n",
        "min_filas = np.min(mat, axis=1)\n",
        "print(mat)\n",
        "print(max_filas)\n",
        "print(min_filas)\n",
        "\n",
        "print(\"\\n 5.-------------------- \\n\")\n",
        "# Aplicar función sin\n",
        "valores = np.linspace(0, np.pi, 10)\n",
        "sin_resultados = np.sin(valores)\n",
        "print(sin_resultados)\n",
        "\n",
        "print(\"\\n 6.-------------------- \\n\")\n",
        "# Transpuesta\n",
        "matriz_3x4 = np.arange(12).reshape(3, 4)\n",
        "transpuesta = matriz_3x4.T\n",
        "print(transpuesta)\n"
      ],
      "metadata": {
        "colab": {
          "base_uri": "https://localhost:8080/"
        },
        "id": "dD-SpSY-jmNH",
        "outputId": "e56636c7-5d5c-43c2-dde3-333abd6e28c8"
      },
      "execution_count": 48,
      "outputs": [
        {
          "output_type": "stream",
          "name": "stdout",
          "text": [
            "1.------------- \n",
            "\n",
            "[ 1  4  9 16]\n",
            "\n",
            " 2.------------- \n",
            "\n",
            "[1.         1.41421356 1.73205081 2.        ]\n",
            "\n",
            " 3.---------------- \n",
            "\n",
            "[ 1  8 27 64]\n",
            "\n",
            " 4.--------------- \n",
            "\n",
            "[[32 56 96 13]\n",
            " [57 53 34 17]\n",
            " [ 8 45 88 97]]\n",
            "[96 57 97]\n",
            "[13 17  8]\n",
            "\n",
            " 5.-------------------- \n",
            "\n",
            "[0.00000000e+00 3.42020143e-01 6.42787610e-01 8.66025404e-01\n",
            " 9.84807753e-01 9.84807753e-01 8.66025404e-01 6.42787610e-01\n",
            " 3.42020143e-01 1.22464680e-16]\n",
            "\n",
            " 6.-------------------- \n",
            "\n",
            "[[ 0  4  8]\n",
            " [ 1  5  9]\n",
            " [ 2  6 10]\n",
            " [ 3  7 11]]\n"
          ]
        }
      ]
    },
    {
      "cell_type": "markdown",
      "source": [
        "EJERCICIO 6"
      ],
      "metadata": {
        "id": "o-8uepphkKD1"
      }
    },
    {
      "cell_type": "code",
      "source": [
        "# Crear DataFrame\n",
        "data = {\n",
        "    'Nombre': ['Ana', 'Luis', 'Carlos', 'María', 'Jorge', 'Lucía', 'Pedro', 'Laura', 'Sofía', 'Andrés'],\n",
        "    'Edad': [23, 30, 28, 22, 35, 27, 26, 24, 29, 31],\n",
        "    'Ciudad': ['Lima', 'Cusco', 'Lima', 'Arequipa', 'Cusco', 'Lima', 'Arequipa', 'Cusco', 'Lima', 'Arequipa']\n",
        "}\n",
        "df = pd.DataFrame(data)\n",
        "\n",
        "# Filtrar personas con más de 25 años\n",
        "mayores_25 = df[df['Edad'] > 25]\n",
        "\n",
        "# Añadir columna 'Ingresos' con cualquier valor\n",
        "df['Ingresos'] = [2500, 3000, 2700, 2300, 3200, 2900, 2800, 2600, 3100, 3300]\n",
        "\n",
        "# Promedio de edad\n",
        "promedio_edad = df['Edad'].mean()\n",
        "\n",
        "# Conteo de ciudades\n",
        "conteo_ciudades = df['Ciudad'].value_counts()\n",
        "\n",
        "# Agrupar por ciudad y obtener promedio de edad\n",
        "promedio_edad_por_ciudad = df.groupby('Ciudad')['Edad'].mean()\n",
        "\n",
        "# Ordenar por edad ascendente\n",
        "orden_asc = df.sort_values('Edad')\n",
        "\n",
        "# Ordenar por edad descendente\n",
        "orden_desc = df.sort_values('Edad', ascending=False)\n",
        "\n",
        "# Mostrar todos los resultados\n",
        "print(\"1.---------------------------- \\n\")\n",
        "print(\"DataFrame original:\\n\", df)\n",
        "print(\"\\n2.-------------------------- \\n\")\n",
        "print(\"\\nPersonas mayores de 25:\\n\", mayores_25)\n",
        "print(\"\\n3.--------------------------- \\n\")\n",
        "print(\"\\nPromedio de edad:\", promedio_edad)\n",
        "print(\"\\n4.-------------------------- \\n\")\n",
        "print(\"\\nConteo de ciudades:\\n\", conteo_ciudades)\n",
        "print(\"\\n5.--------------------------------- \\n\")\n",
        "print(\"\\nPromedio de edad por ciudad:\\n\", promedio_edad_por_ciudad)\n",
        "print(\"\\n6.--------------------------------- \\n\")\n",
        "print(\"\\nOrdenado por edad (ascendente):\\n\", orden_asc)\n",
        "print(\"\\n7.-------------------- -------------\\n\")\n",
        "print(\"\\nOrdenado por edad (descendente):\\n\", orden_desc)\n"
      ],
      "metadata": {
        "colab": {
          "base_uri": "https://localhost:8080/"
        },
        "id": "MM7o25hYkNRW",
        "outputId": "e4bc9bb5-636c-4cf5-e1a7-04ccef8b9c7a"
      },
      "execution_count": 51,
      "outputs": [
        {
          "output_type": "stream",
          "name": "stdout",
          "text": [
            "1.---------------------------- \n",
            "\n",
            "DataFrame original:\n",
            "    Nombre  Edad    Ciudad  Ingresos\n",
            "0     Ana    23      Lima      2500\n",
            "1    Luis    30     Cusco      3000\n",
            "2  Carlos    28      Lima      2700\n",
            "3   María    22  Arequipa      2300\n",
            "4   Jorge    35     Cusco      3200\n",
            "5   Lucía    27      Lima      2900\n",
            "6   Pedro    26  Arequipa      2800\n",
            "7   Laura    24     Cusco      2600\n",
            "8   Sofía    29      Lima      3100\n",
            "9  Andrés    31  Arequipa      3300\n",
            "\n",
            "2.-------------------------- \n",
            "\n",
            "\n",
            "Personas mayores de 25:\n",
            "    Nombre  Edad    Ciudad\n",
            "1    Luis    30     Cusco\n",
            "2  Carlos    28      Lima\n",
            "4   Jorge    35     Cusco\n",
            "5   Lucía    27      Lima\n",
            "6   Pedro    26  Arequipa\n",
            "8   Sofía    29      Lima\n",
            "9  Andrés    31  Arequipa\n",
            "\n",
            "3.--------------------------- \n",
            "\n",
            "\n",
            "Promedio de edad: 27.5\n",
            "\n",
            "4.-------------------------- \n",
            "\n",
            "\n",
            "Conteo de ciudades:\n",
            " Ciudad\n",
            "Lima        4\n",
            "Cusco       3\n",
            "Arequipa    3\n",
            "Name: count, dtype: int64\n",
            "\n",
            "5.--------------------------------- \n",
            "\n",
            "\n",
            "Promedio de edad por ciudad:\n",
            " Ciudad\n",
            "Arequipa    26.333333\n",
            "Cusco       29.666667\n",
            "Lima        26.750000\n",
            "Name: Edad, dtype: float64\n",
            "\n",
            "6.--------------------------------- \n",
            "\n",
            "\n",
            "Ordenado por edad (ascendente):\n",
            "    Nombre  Edad    Ciudad  Ingresos\n",
            "3   María    22  Arequipa      2300\n",
            "0     Ana    23      Lima      2500\n",
            "7   Laura    24     Cusco      2600\n",
            "6   Pedro    26  Arequipa      2800\n",
            "5   Lucía    27      Lima      2900\n",
            "2  Carlos    28      Lima      2700\n",
            "8   Sofía    29      Lima      3100\n",
            "1    Luis    30     Cusco      3000\n",
            "9  Andrés    31  Arequipa      3300\n",
            "4   Jorge    35     Cusco      3200\n",
            "\n",
            "7.-------------------- -------------\n",
            "\n",
            "\n",
            "Ordenado por edad (descendente):\n",
            "    Nombre  Edad    Ciudad  Ingresos\n",
            "4   Jorge    35     Cusco      3200\n",
            "9  Andrés    31  Arequipa      3300\n",
            "1    Luis    30     Cusco      3000\n",
            "8   Sofía    29      Lima      3100\n",
            "2  Carlos    28      Lima      2700\n",
            "5   Lucía    27      Lima      2900\n",
            "6   Pedro    26  Arequipa      2800\n",
            "7   Laura    24     Cusco      2600\n",
            "0     Ana    23      Lima      2500\n",
            "3   María    22  Arequipa      2300\n"
          ]
        }
      ]
    },
    {
      "cell_type": "markdown",
      "source": [
        "EJERCICIO 7"
      ],
      "metadata": {
        "id": "ynROjucpk1fm"
      }
    },
    {
      "cell_type": "code",
      "source": [
        "import pandas as pd\n",
        "# Cargar archivo (reemplaza 'archivo.csv' con el nombre real)\n",
        "df = pd.read_excel('/content/universidad.xlsx')  # o usa pd.read_excel() si es .xlsx\n",
        "\n",
        "# Filtro 1: Ingeniería en sistemas\n",
        "ing_sistemas = df[df['Carrera'] == 'Ing. en sistemas']\n",
        "cantidad_sistemas = len(ing_sistemas)\n",
        "\n",
        "# Filtro 2: Ingeniería en derecho\n",
        "ing_derecho = df[df['Carrera'] == 'Lic. en derecho']\n",
        "cantidad_derecho = len(ing_derecho)\n",
        "\n",
        "# Convertir la columna 'Inscripción' a datetime (asegúrate de usar el formato correcto)\n",
        "df['Inscripción'] = pd.to_datetime(df['Inscripción'], dayfirst=True)\n",
        "\n",
        "# Filtrar inscritos en el año 2015\n",
        "inscritos_2015 = df[df['Inscripción'].dt.year == 2015]\n",
        "cantidad_2015 = len(inscritos_2015)\n",
        "\n",
        "print(\"Cantidad inscritos en 2015:\", cantidad_2015)\n",
        "\n",
        "\n",
        "# Filtro 4: Alumnos de 1° y 2° semestre\n",
        "semestres_1_2 = df[df['Semestre'].isin([1, 2])]\n",
        "cantidad_1_2 = len(semestres_1_2)\n",
        "\n",
        "# Mostrar resultados\n",
        "print(\"1.---------------------------- \\n\")\n",
        "print(\"Cantidad en Ing. en sistemas:\", cantidad_sistemas)\n",
        "print(\"\\n2.---------------------------- \\n\")\n",
        "print(\"Cantidad en Lic. en derecho:\", cantidad_derecho)\n",
        "print(\"\\n3.---------------------------- \\n\")\n",
        "print(\"Cantidad inscritos en 2015:\", cantidad_2015)\n",
        "print(\"\\n4.---------------------------- \\n\")\n",
        "print(\"Cantidad en 1 y 2 semestre:\", cantidad_1_2)\n"
      ],
      "metadata": {
        "colab": {
          "base_uri": "https://localhost:8080/"
        },
        "id": "c3NwhCV1k4O2",
        "outputId": "c136e53e-4326-4c4e-e098-f53f3969fc8e"
      },
      "execution_count": 63,
      "outputs": [
        {
          "output_type": "stream",
          "name": "stdout",
          "text": [
            "Cantidad inscritos en 2015: 23\n",
            "1.---------------------------- \n",
            "\n",
            "Cantidad en Ing. en sistemas: 13\n",
            "\n",
            "2.---------------------------- \n",
            "\n",
            "Cantidad en Lic. en derecho: 17\n",
            "\n",
            "3.---------------------------- \n",
            "\n",
            "Cantidad inscritos en 2015: 23\n",
            "\n",
            "4.---------------------------- \n",
            "\n",
            "Cantidad en 1 y 2 semestre: 22\n"
          ]
        }
      ]
    }
  ]
}